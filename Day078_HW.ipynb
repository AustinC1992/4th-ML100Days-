{
 "cells": [
  {
   "cell_type": "markdown",
   "metadata": {},
   "source": [
    "## Work\n",
    "1. 請嘗試將 preproc_x 替換成以每筆資料的 min/max 進行標準化至 -1 ~ 1 間，再進行訓練\n",
    "2. 請嘗試將 mlp 疊更深 (e.g 5~10 層)，進行訓練後觀察 learning curve 的走勢\n",
    "3. (optional) 請改用 GPU 進行訓練 (如果你有 GPU 的話)，比較使用 CPU 與 GPU 的訓練速度"
   ]
  },
  {
   "cell_type": "code",
   "execution_count": 1,
   "metadata": {},
   "outputs": [
    {
     "data": {
      "text/plain": [
       "'\\nYour code here (optional)\\n確認硬體資源\\n'"
      ]
     },
     "execution_count": 1,
     "metadata": {},
     "output_type": "execute_result"
    }
   ],
   "source": [
    "## \n",
    "\"\"\"\n",
    "Your code here (optional)\n",
    "確認硬體資源\n",
    "\"\"\"\n"
   ]
  },
  {
   "cell_type": "code",
   "execution_count": 3,
   "metadata": {},
   "outputs": [
    {
     "name": "stderr",
     "output_type": "stream",
     "text": [
      "Using TensorFlow backend.\n"
     ]
    }
   ],
   "source": [
    "import os\n",
    "import keras\n",
    "\n",
    "# 請嘗試設定 GPU：os.environ\n"
   ]
  },
  {
   "cell_type": "code",
   "execution_count": 4,
   "metadata": {},
   "outputs": [],
   "source": [
    "train, test = keras.datasets.cifar10.load_data()"
   ]
  },
  {
   "cell_type": "code",
   "execution_count": 5,
   "metadata": {},
   "outputs": [],
   "source": [
    "## 資料前處理\n",
    "def preproc_x(x, flatten=True):\n",
    "    x = x / 255.\n",
    "    if flatten:\n",
    "        x = x.reshape((len(x), -1))\n",
    "    return x\n",
    "\n",
    "def preproc_y(y, num_classes=10):\n",
    "    if y.shape[-1] == 1:\n",
    "        y = keras.utils.to_categorical(y, num_classes)\n",
    "    return y"
   ]
  },
  {
   "cell_type": "code",
   "execution_count": 6,
   "metadata": {},
   "outputs": [],
   "source": [
    "x_train, y_train = train\n",
    "x_test, y_test = test\n",
    "\n",
    "# Preproc the inputs\n",
    "x_train = preproc_x(x_train)\n",
    "x_test = preproc_x(x_test)\n",
    "\n",
    "# Preprc the outputs\n",
    "y_train = preproc_y(y_train)\n",
    "y_test = preproc_y(y_test)"
   ]
  },
  {
   "cell_type": "code",
   "execution_count": 7,
   "metadata": {},
   "outputs": [],
   "source": [
    "def build_mlp(input_shape, output_units=10, num_neurons=[512, 256, 128]):\n",
    "    input_layer = keras.layers.Input(input_shape)\n",
    "    \n",
    "    for i, n_units in enumerate(num_neurons):\n",
    "        if i == 0:\n",
    "            x = keras.layers.Dense(units=n_units, activation=\"relu\", name=\"hidden_layer\"+str(i+1))(input_layer)\n",
    "        else:\n",
    "            x = keras.layers.Dense(units=n_units, activation=\"relu\", name=\"hidden_layer\"+str(i+1))(x)\n",
    "    \n",
    "    out = keras.layers.Dense(units=output_units, activation=\"softmax\", name=\"output\")(x)\n",
    "    \n",
    "    model = keras.models.Model(inputs=[input_layer], outputs=[out])\n",
    "    return model"
   ]
  },
  {
   "cell_type": "code",
   "execution_count": 8,
   "metadata": {},
   "outputs": [],
   "source": [
    "## 超參數設定\n",
    "LEARNING_RATE = 0.001\n",
    "EPOCHS = 100\n",
    "BATCH_SIZE = 256"
   ]
  },
  {
   "cell_type": "code",
   "execution_count": 10,
   "metadata": {},
   "outputs": [
    {
     "name": "stdout",
     "output_type": "stream",
     "text": [
      "Model: \"model_1\"\n",
      "_________________________________________________________________\n",
      "Layer (type)                 Output Shape              Param #   \n",
      "=================================================================\n",
      "input_1 (InputLayer)         (None, 3072)              0         \n",
      "_________________________________________________________________\n",
      "hidden_layer1 (Dense)        (None, 512)               1573376   \n",
      "_________________________________________________________________\n",
      "hidden_layer2 (Dense)        (None, 256)               131328    \n",
      "_________________________________________________________________\n",
      "hidden_layer3 (Dense)        (None, 128)               32896     \n",
      "_________________________________________________________________\n",
      "output (Dense)               (None, 10)                1290      \n",
      "=================================================================\n",
      "Total params: 1,738,890\n",
      "Trainable params: 1,738,890\n",
      "Non-trainable params: 0\n",
      "_________________________________________________________________\n"
     ]
    }
   ],
   "source": [
    "\n",
    "model = build_mlp(input_shape=x_train.shape[1:])\n",
    "model.summary()"
   ]
  },
  {
   "cell_type": "code",
   "execution_count": 11,
   "metadata": {},
   "outputs": [],
   "source": [
    "optimizer = keras.optimizers.Adam(lr=LEARNING_RATE)\n",
    "model.compile(loss=\"categorical_crossentropy\", metrics=[\"accuracy\"], optimizer=optimizer)"
   ]
  },
  {
   "cell_type": "code",
   "execution_count": 12,
   "metadata": {},
   "outputs": [
    {
     "name": "stdout",
     "output_type": "stream",
     "text": [
      "Train on 50000 samples, validate on 10000 samples\n",
      "Epoch 1/100\n",
      "50000/50000 [==============================] - 14s 276us/step - loss: 1.9300 - accuracy: 0.3023 - val_loss: 1.7603 - val_accuracy: 0.3686\n",
      "Epoch 2/100\n",
      "50000/50000 [==============================] - 15s 304us/step - loss: 1.7045 - accuracy: 0.3879 - val_loss: 1.6423 - val_accuracy: 0.4094\n",
      "Epoch 3/100\n",
      "50000/50000 [==============================] - 25s 499us/step - loss: 1.6095 - accuracy: 0.4249 - val_loss: 1.5731 - val_accuracy: 0.4429\n",
      "Epoch 4/100\n",
      "50000/50000 [==============================] - 14s 271us/step - loss: 1.5466 - accuracy: 0.4468 - val_loss: 1.5438 - val_accuracy: 0.4480\n",
      "Epoch 5/100\n",
      "50000/50000 [==============================] - 14s 283us/step - loss: 1.4925 - accuracy: 0.4657 - val_loss: 1.4871 - val_accuracy: 0.4762\n",
      "Epoch 6/100\n",
      "50000/50000 [==============================] - 13s 258us/step - loss: 1.4601 - accuracy: 0.4789 - val_loss: 1.5030 - val_accuracy: 0.4607\n",
      "Epoch 7/100\n",
      "50000/50000 [==============================] - 13s 259us/step - loss: 1.4308 - accuracy: 0.4898 - val_loss: 1.4765 - val_accuracy: 0.4748\n",
      "Epoch 8/100\n",
      "50000/50000 [==============================] - 13s 262us/step - loss: 1.3906 - accuracy: 0.5030 - val_loss: 1.4769 - val_accuracy: 0.4760\n",
      "Epoch 9/100\n",
      "50000/50000 [==============================] - 13s 264us/step - loss: 1.3807 - accuracy: 0.5052 - val_loss: 1.4106 - val_accuracy: 0.4990\n",
      "Epoch 10/100\n",
      "50000/50000 [==============================] - 14s 270us/step - loss: 1.3392 - accuracy: 0.5224 - val_loss: 1.4116 - val_accuracy: 0.4968\n",
      "Epoch 11/100\n",
      "50000/50000 [==============================] - 14s 285us/step - loss: 1.3185 - accuracy: 0.5308 - val_loss: 1.4651 - val_accuracy: 0.4872\n",
      "Epoch 12/100\n",
      "50000/50000 [==============================] - 13s 269us/step - loss: 1.3008 - accuracy: 0.5374 - val_loss: 1.3884 - val_accuracy: 0.5079\n",
      "Epoch 13/100\n",
      "50000/50000 [==============================] - 16s 323us/step - loss: 1.2781 - accuracy: 0.5450 - val_loss: 1.3946 - val_accuracy: 0.5018\n",
      "Epoch 14/100\n",
      "50000/50000 [==============================] - 21s 420us/step - loss: 1.2571 - accuracy: 0.5503 - val_loss: 1.3785 - val_accuracy: 0.5119\n",
      "Epoch 15/100\n",
      "50000/50000 [==============================] - 19s 387us/step - loss: 1.2271 - accuracy: 0.5619 - val_loss: 1.3783 - val_accuracy: 0.5130\n",
      "Epoch 16/100\n",
      "50000/50000 [==============================] - 16s 322us/step - loss: 1.2076 - accuracy: 0.5673 - val_loss: 1.3537 - val_accuracy: 0.5219\n",
      "Epoch 17/100\n",
      "50000/50000 [==============================] - 13s 264us/step - loss: 1.1890 - accuracy: 0.5777 - val_loss: 1.3998 - val_accuracy: 0.5123\n",
      "Epoch 18/100\n",
      "50000/50000 [==============================] - 14s 282us/step - loss: 1.1727 - accuracy: 0.5810 - val_loss: 1.4140 - val_accuracy: 0.5072\n",
      "Epoch 19/100\n",
      "50000/50000 [==============================] - 14s 273us/step - loss: 1.1575 - accuracy: 0.5860 - val_loss: 1.3690 - val_accuracy: 0.5187\n",
      "Epoch 20/100\n",
      "50000/50000 [==============================] - 13s 264us/step - loss: 1.1292 - accuracy: 0.5957 - val_loss: 1.4067 - val_accuracy: 0.5046\n",
      "Epoch 21/100\n",
      "50000/50000 [==============================] - 13s 263us/step - loss: 1.1233 - accuracy: 0.5967 - val_loss: 1.3814 - val_accuracy: 0.5200\n",
      "Epoch 22/100\n",
      "50000/50000 [==============================] - 14s 280us/step - loss: 1.0800 - accuracy: 0.6139 - val_loss: 1.3758 - val_accuracy: 0.5200\n",
      "Epoch 23/100\n",
      "50000/50000 [==============================] - 14s 280us/step - loss: 1.0771 - accuracy: 0.6147 - val_loss: 1.3843 - val_accuracy: 0.5186\n",
      "Epoch 24/100\n",
      "50000/50000 [==============================] - 13s 265us/step - loss: 1.0596 - accuracy: 0.6207 - val_loss: 1.3714 - val_accuracy: 0.5291\n",
      "Epoch 25/100\n",
      "50000/50000 [==============================] - 13s 265us/step - loss: 1.0304 - accuracy: 0.6307 - val_loss: 1.3769 - val_accuracy: 0.5354\n",
      "Epoch 26/100\n",
      "50000/50000 [==============================] - 20s 403us/step - loss: 1.0192 - accuracy: 0.6349 - val_loss: 1.3736 - val_accuracy: 0.5271\n",
      "Epoch 27/100\n",
      "50000/50000 [==============================] - 20s 394us/step - loss: 0.9978 - accuracy: 0.6418 - val_loss: 1.3820 - val_accuracy: 0.5296\n",
      "Epoch 28/100\n",
      "50000/50000 [==============================] - 26s 524us/step - loss: 0.9829 - accuracy: 0.6476 - val_loss: 1.4132 - val_accuracy: 0.5240\n",
      "Epoch 29/100\n",
      "50000/50000 [==============================] - 17s 342us/step - loss: 0.9643 - accuracy: 0.6550 - val_loss: 1.4426 - val_accuracy: 0.5211\n",
      "Epoch 30/100\n",
      "50000/50000 [==============================] - 16s 310us/step - loss: 0.9380 - accuracy: 0.6648 - val_loss: 1.4342 - val_accuracy: 0.5151\n",
      "Epoch 31/100\n",
      "50000/50000 [==============================] - 16s 311us/step - loss: 0.9230 - accuracy: 0.6704 - val_loss: 1.4568 - val_accuracy: 0.5217\n",
      "Epoch 32/100\n",
      "50000/50000 [==============================] - 15s 310us/step - loss: 0.9201 - accuracy: 0.6713 - val_loss: 1.4644 - val_accuracy: 0.5210\n",
      "Epoch 33/100\n",
      "50000/50000 [==============================] - 16s 311us/step - loss: 0.8970 - accuracy: 0.6769 - val_loss: 1.4836 - val_accuracy: 0.5187\n",
      "Epoch 34/100\n",
      "50000/50000 [==============================] - 18s 355us/step - loss: 0.8784 - accuracy: 0.6868 - val_loss: 1.4893 - val_accuracy: 0.5249\n",
      "Epoch 35/100\n",
      "50000/50000 [==============================] - 16s 325us/step - loss: 0.8621 - accuracy: 0.6926 - val_loss: 1.5162 - val_accuracy: 0.5235\n",
      "Epoch 36/100\n",
      "50000/50000 [==============================] - 19s 371us/step - loss: 0.8365 - accuracy: 0.7009 - val_loss: 1.5304 - val_accuracy: 0.5269\n",
      "Epoch 37/100\n",
      "50000/50000 [==============================] - 19s 390us/step - loss: 0.8236 - accuracy: 0.7045 - val_loss: 1.5203 - val_accuracy: 0.5263\n",
      "Epoch 38/100\n",
      "50000/50000 [==============================] - 20s 399us/step - loss: 0.8238 - accuracy: 0.7045 - val_loss: 1.5370 - val_accuracy: 0.5230\n",
      "Epoch 39/100\n",
      "50000/50000 [==============================] - 24s 484us/step - loss: 0.8039 - accuracy: 0.7100 - val_loss: 1.5997 - val_accuracy: 0.5226\n",
      "Epoch 40/100\n",
      "50000/50000 [==============================] - 17s 346us/step - loss: 0.7917 - accuracy: 0.7164 - val_loss: 1.5950 - val_accuracy: 0.5136\n",
      "Epoch 41/100\n",
      "50000/50000 [==============================] - 17s 343us/step - loss: 0.7723 - accuracy: 0.7227 - val_loss: 1.6285 - val_accuracy: 0.5221\n",
      "Epoch 42/100\n",
      "50000/50000 [==============================] - 16s 320us/step - loss: 0.7528 - accuracy: 0.7305 - val_loss: 1.5938 - val_accuracy: 0.5193\n",
      "Epoch 43/100\n",
      "50000/50000 [==============================] - 20s 394us/step - loss: 0.7432 - accuracy: 0.7371 - val_loss: 1.6273 - val_accuracy: 0.5173\n",
      "Epoch 44/100\n",
      "50000/50000 [==============================] - 15s 305us/step - loss: 0.7179 - accuracy: 0.7425 - val_loss: 1.6626 - val_accuracy: 0.5185\n",
      "Epoch 45/100\n",
      "50000/50000 [==============================] - 19s 371us/step - loss: 0.7012 - accuracy: 0.7497 - val_loss: 1.6743 - val_accuracy: 0.5174\n",
      "Epoch 46/100\n",
      "50000/50000 [==============================] - 16s 321us/step - loss: 0.6955 - accuracy: 0.7507 - val_loss: 1.7161 - val_accuracy: 0.5236\n",
      "Epoch 47/100\n",
      "50000/50000 [==============================] - 15s 296us/step - loss: 0.6804 - accuracy: 0.7575 - val_loss: 1.7540 - val_accuracy: 0.5144\n",
      "Epoch 48/100\n",
      "50000/50000 [==============================] - 15s 296us/step - loss: 0.6681 - accuracy: 0.7612 - val_loss: 1.7577 - val_accuracy: 0.5221\n",
      "Epoch 49/100\n",
      "50000/50000 [==============================] - 16s 322us/step - loss: 0.6510 - accuracy: 0.7678 - val_loss: 1.7521 - val_accuracy: 0.5251\n",
      "Epoch 50/100\n",
      "50000/50000 [==============================] - 18s 353us/step - loss: 0.6392 - accuracy: 0.7708 - val_loss: 1.7723 - val_accuracy: 0.5191\n",
      "Epoch 51/100\n",
      "50000/50000 [==============================] - 17s 345us/step - loss: 0.6181 - accuracy: 0.7794 - val_loss: 1.8434 - val_accuracy: 0.5092\n",
      "Epoch 52/100\n",
      "50000/50000 [==============================] - 16s 326us/step - loss: 0.6287 - accuracy: 0.7733 - val_loss: 1.8405 - val_accuracy: 0.5204\n",
      "Epoch 53/100\n",
      "50000/50000 [==============================] - 16s 315us/step - loss: 0.6036 - accuracy: 0.7838 - val_loss: 1.8292 - val_accuracy: 0.5286\n",
      "Epoch 54/100\n",
      "50000/50000 [==============================] - 20s 404us/step - loss: 0.5996 - accuracy: 0.7863 - val_loss: 1.8818 - val_accuracy: 0.5099\n"
     ]
    },
    {
     "name": "stdout",
     "output_type": "stream",
     "text": [
      "Epoch 55/100\n",
      "50000/50000 [==============================] - 24s 474us/step - loss: 0.5844 - accuracy: 0.7913 - val_loss: 1.9156 - val_accuracy: 0.5154\n",
      "Epoch 56/100\n",
      "50000/50000 [==============================] - 20s 400us/step - loss: 0.5623 - accuracy: 0.7985 - val_loss: 1.9164 - val_accuracy: 0.5150\n",
      "Epoch 57/100\n",
      "50000/50000 [==============================] - 17s 347us/step - loss: 0.5483 - accuracy: 0.8049 - val_loss: 2.0483 - val_accuracy: 0.5030\n",
      "Epoch 58/100\n",
      "50000/50000 [==============================] - 15s 291us/step - loss: 0.5454 - accuracy: 0.8043 - val_loss: 1.9855 - val_accuracy: 0.5065\n",
      "Epoch 59/100\n",
      "50000/50000 [==============================] - 14s 280us/step - loss: 0.5433 - accuracy: 0.8023 - val_loss: 2.0249 - val_accuracy: 0.5154\n",
      "Epoch 60/100\n",
      "50000/50000 [==============================] - 14s 274us/step - loss: 0.5240 - accuracy: 0.8122 - val_loss: 2.0835 - val_accuracy: 0.5057\n",
      "Epoch 61/100\n",
      "50000/50000 [==============================] - 17s 343us/step - loss: 0.5189 - accuracy: 0.8150 - val_loss: 2.1155 - val_accuracy: 0.5120\n",
      "Epoch 62/100\n",
      "50000/50000 [==============================] - 13s 270us/step - loss: 0.5111 - accuracy: 0.8181 - val_loss: 2.1448 - val_accuracy: 0.5091\n",
      "Epoch 63/100\n",
      "50000/50000 [==============================] - 16s 315us/step - loss: 0.4965 - accuracy: 0.8206 - val_loss: 2.1417 - val_accuracy: 0.5035\n",
      "Epoch 64/100\n",
      "50000/50000 [==============================] - 13s 270us/step - loss: 0.4937 - accuracy: 0.8229 - val_loss: 2.2202 - val_accuracy: 0.5082\n",
      "Epoch 65/100\n",
      "50000/50000 [==============================] - 14s 271us/step - loss: 0.4735 - accuracy: 0.8307 - val_loss: 2.2730 - val_accuracy: 0.4992\n",
      "Epoch 66/100\n",
      "50000/50000 [==============================] - 14s 275us/step - loss: 0.4644 - accuracy: 0.8352 - val_loss: 2.2091 - val_accuracy: 0.5097\n",
      "Epoch 67/100\n",
      "50000/50000 [==============================] - 16s 327us/step - loss: 0.4492 - accuracy: 0.8394 - val_loss: 2.3458 - val_accuracy: 0.5080\n",
      "Epoch 68/100\n",
      "50000/50000 [==============================] - 16s 311us/step - loss: 0.4589 - accuracy: 0.8349 - val_loss: 2.3170 - val_accuracy: 0.5144\n",
      "Epoch 69/100\n",
      "50000/50000 [==============================] - 16s 313us/step - loss: 0.4342 - accuracy: 0.8456 - val_loss: 2.3636 - val_accuracy: 0.5135\n",
      "Epoch 70/100\n",
      "50000/50000 [==============================] - 15s 309us/step - loss: 0.4602 - accuracy: 0.8354 - val_loss: 2.3530 - val_accuracy: 0.5098\n",
      "Epoch 71/100\n",
      "50000/50000 [==============================] - 15s 307us/step - loss: 0.4389 - accuracy: 0.8433 - val_loss: 2.4085 - val_accuracy: 0.5114\n",
      "Epoch 72/100\n",
      "50000/50000 [==============================] - 15s 304us/step - loss: 0.4207 - accuracy: 0.8493 - val_loss: 2.4838 - val_accuracy: 0.5056\n",
      "Epoch 73/100\n",
      "50000/50000 [==============================] - 16s 326us/step - loss: 0.4170 - accuracy: 0.8503 - val_loss: 2.4913 - val_accuracy: 0.5124\n",
      "Epoch 74/100\n",
      "50000/50000 [==============================] - 15s 308us/step - loss: 0.4060 - accuracy: 0.8548 - val_loss: 2.5457 - val_accuracy: 0.5091\n",
      "Epoch 75/100\n",
      "50000/50000 [==============================] - 15s 307us/step - loss: 0.3951 - accuracy: 0.8598 - val_loss: 2.5463 - val_accuracy: 0.5052\n",
      "Epoch 76/100\n",
      "50000/50000 [==============================] - 15s 303us/step - loss: 0.3794 - accuracy: 0.8655 - val_loss: 2.6672 - val_accuracy: 0.4962\n",
      "Epoch 77/100\n",
      "50000/50000 [==============================] - 15s 304us/step - loss: 0.4068 - accuracy: 0.8537 - val_loss: 2.6363 - val_accuracy: 0.5064\n",
      "Epoch 78/100\n",
      "50000/50000 [==============================] - 15s 306us/step - loss: 0.3784 - accuracy: 0.8638 - val_loss: 2.6607 - val_accuracy: 0.5077\n",
      "Epoch 79/100\n",
      "50000/50000 [==============================] - 16s 311us/step - loss: 0.3871 - accuracy: 0.8610 - val_loss: 2.7611 - val_accuracy: 0.4993\n",
      "Epoch 80/100\n",
      "50000/50000 [==============================] - 15s 304us/step - loss: 0.3662 - accuracy: 0.8697 - val_loss: 2.7175 - val_accuracy: 0.5059\n",
      "Epoch 81/100\n",
      "50000/50000 [==============================] - 15s 307us/step - loss: 0.3881 - accuracy: 0.8604 - val_loss: 2.7127 - val_accuracy: 0.5127\n",
      "Epoch 82/100\n",
      "50000/50000 [==============================] - 15s 306us/step - loss: 0.3649 - accuracy: 0.8686 - val_loss: 2.7969 - val_accuracy: 0.5003\n",
      "Epoch 83/100\n",
      "50000/50000 [==============================] - 15s 304us/step - loss: 0.3294 - accuracy: 0.8842 - val_loss: 2.9157 - val_accuracy: 0.5094\n",
      "Epoch 84/100\n",
      "50000/50000 [==============================] - 15s 305us/step - loss: 0.3324 - accuracy: 0.8827 - val_loss: 2.8506 - val_accuracy: 0.4970\n",
      "Epoch 85/100\n",
      "50000/50000 [==============================] - 16s 323us/step - loss: 0.3470 - accuracy: 0.8757 - val_loss: 2.9847 - val_accuracy: 0.5041\n",
      "Epoch 86/100\n",
      "50000/50000 [==============================] - 21s 416us/step - loss: 0.3431 - accuracy: 0.8773 - val_loss: 2.8749 - val_accuracy: 0.5024\n",
      "Epoch 87/100\n",
      "50000/50000 [==============================] - 19s 375us/step - loss: 0.3568 - accuracy: 0.8725 - val_loss: 2.9145 - val_accuracy: 0.5044\n",
      "Epoch 88/100\n",
      "50000/50000 [==============================] - 16s 311us/step - loss: 0.3467 - accuracy: 0.8778 - val_loss: 2.9866 - val_accuracy: 0.4991\n",
      "Epoch 89/100\n",
      "50000/50000 [==============================] - 17s 346us/step - loss: 0.3254 - accuracy: 0.8838 - val_loss: 2.9411 - val_accuracy: 0.5097\n",
      "Epoch 90/100\n",
      "50000/50000 [==============================] - 17s 337us/step - loss: 0.3132 - accuracy: 0.8896 - val_loss: 3.0471 - val_accuracy: 0.4973\n",
      "Epoch 91/100\n",
      "50000/50000 [==============================] - 22s 432us/step - loss: 0.2975 - accuracy: 0.8944 - val_loss: 3.0681 - val_accuracy: 0.5025\n",
      "Epoch 92/100\n",
      "50000/50000 [==============================] - 26s 516us/step - loss: 0.3346 - accuracy: 0.8805 - val_loss: 3.1190 - val_accuracy: 0.5071\n",
      "Epoch 93/100\n",
      "50000/50000 [==============================] - 17s 336us/step - loss: 0.2886 - accuracy: 0.8989 - val_loss: 3.1361 - val_accuracy: 0.5053\n",
      "Epoch 94/100\n",
      "50000/50000 [==============================] - 15s 300us/step - loss: 0.3186 - accuracy: 0.8863 - val_loss: 3.0926 - val_accuracy: 0.5085\n",
      "Epoch 95/100\n",
      "50000/50000 [==============================] - 18s 358us/step - loss: 0.2994 - accuracy: 0.8935 - val_loss: 3.1877 - val_accuracy: 0.5008\n",
      "Epoch 96/100\n",
      "50000/50000 [==============================] - 17s 330us/step - loss: 0.3072 - accuracy: 0.8886 - val_loss: 3.1484 - val_accuracy: 0.4915\n",
      "Epoch 97/100\n",
      "50000/50000 [==============================] - 21s 420us/step - loss: 0.2971 - accuracy: 0.8935 - val_loss: 3.2521 - val_accuracy: 0.4998\n",
      "Epoch 98/100\n",
      "50000/50000 [==============================] - 19s 375us/step - loss: 0.2780 - accuracy: 0.8999 - val_loss: 3.3485 - val_accuracy: 0.5003\n",
      "Epoch 99/100\n",
      "50000/50000 [==============================] - 18s 364us/step - loss: 0.2676 - accuracy: 0.9036 - val_loss: 3.2419 - val_accuracy: 0.5012\n",
      "Epoch 100/100\n",
      "50000/50000 [==============================] - 17s 345us/step - loss: 0.3240 - accuracy: 0.8832 - val_loss: 3.4567 - val_accuracy: 0.4979\n"
     ]
    },
    {
     "data": {
      "text/plain": [
       "<keras.callbacks.callbacks.History at 0x133e3d208>"
      ]
     },
     "execution_count": 12,
     "metadata": {},
     "output_type": "execute_result"
    }
   ],
   "source": [
    "model.fit(x_train, y_train, \n",
    "          epochs=EPOCHS, \n",
    "          batch_size=BATCH_SIZE, \n",
    "          validation_data=(x_test, y_test), \n",
    "          shuffle=True)"
   ]
  },
  {
   "cell_type": "code",
   "execution_count": 14,
   "metadata": {},
   "outputs": [
    {
     "data": {
      "image/png": "[encoded data removed]",
      "text/plain": [
       "<Figure size 432x288 with 1 Axes>"
      ]
     },
     "metadata": {},
     "output_type": "display_data"
    },
    {
     "data": {
      "image/png": "[encoded data removed]",
      "text/plain": [
       "<Figure size 432x288 with 1 Axes>"
      ]
     },
     "metadata": {},
     "output_type": "display_data"
    }
   ],
   "source": [
    "import matplotlib.pyplot as plt\n",
    "\n",
    "\n",
    "train_loss = model.history.history[\"loss\"]\n",
    "valid_loss = model.history.history[\"val_loss\"]\n",
    "\n",
    "train_acc = model.history.history[\"accuracy\"]\n",
    "valid_acc = model.history.history[\"val_accuracy\"]\n",
    "\n",
    "plt.plot(range(len(train_loss)), train_loss, label=\"train loss\")\n",
    "plt.plot(range(len(valid_loss)), valid_loss, label=\"valid loss\")\n",
    "plt.legend()\n",
    "plt.title(\"Loss\")\n",
    "plt.show()\n",
    "\n",
    "plt.plot(range(len(train_acc)), train_acc, label=\"train accuracy\")\n",
    "plt.plot(range(len(valid_acc)), valid_acc, label=\"valid accuracy\")\n",
    "plt.legend()\n",
    "plt.title(\"Accuracy\")\n",
    "plt.show()"
   ]
  },
  {
   "cell_type": "code",
   "execution_count": null,
   "metadata": {},
   "outputs": [],
   "source": []
  }
 ],
 "metadata": {
  "kernelspec": {
   "display_name": "Python 3",
   "language": "python",
   "name": "python3"
  },
  "language_info": {
   "codemirror_mode": {
    "name": "ipython",
    "version": 3
   },
   "file_extension": ".py",
   "mimetype": "text/x-python",
   "name": "python",
   "nbconvert_exporter": "python",
   "pygments_lexer": "ipython3",
   "version": "3.6.4"
  }
 },
 "nbformat": 4,
 "nbformat_minor": 2
}
