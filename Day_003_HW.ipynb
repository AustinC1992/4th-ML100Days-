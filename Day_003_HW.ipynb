{
 "cells": [
  {
   "cell_type": "code",
   "execution_count": 1,
   "metadata": {},
   "outputs": [
    {
     "name": "stdout",
     "output_type": "stream",
     "text": [
      "作業一：目標\n",
      "用Python對新冠肺癌做數據分析\n"
     ]
    }
   ],
   "source": [
    "print(\"作業一：目標\")\n",
    "print(\"用Python對新冠肺癌做數據分析\")"
   ]
  },
  {
   "cell_type": "code",
   "execution_count": 2,
   "metadata": {},
   "outputs": [
    {
     "name": "stdout",
     "output_type": "stream",
     "text": [
      "作業二：方法\n",
      "用python中的pandas將資料做初步清理，將地區、時間進行標準化，之後使用groupby針對地區分類，之後以可視化方式進行敘述統計看現在世界狀況\n"
     ]
    }
   ],
   "source": [
    "print(\"作業二：方法\")\n",
    "print(\"用python中的pandas將資料做初步清理，將地區、時間進行標準化，之後使用groupby針對地區分類，之後以可視化方式進行敘述統計看現在世界狀況\")"
   ]
  },
  {
   "cell_type": "code",
   "execution_count": 3,
   "metadata": {},
   "outputs": [
    {
     "name": "stdout",
     "output_type": "stream",
     "text": [
      "作業三：資料來源\n",
      "https://www.leiphone.com/news/202002/UNhzhNAQNS9qqA5q.html\n"
     ]
    }
   ],
   "source": [
    "print(\"作業三：資料來源\")\n",
    "print(\"https://www.leiphone.com/news/202002/UNhzhNAQNS9qqA5q.html\")"
   ]
  }
 ],
 "metadata": {
  "kernelspec": {
   "display_name": "Python 3",
   "language": "python",
   "name": "python3"
  },
  "language_info": {
   "codemirror_mode": {
    "name": "ipython",
    "version": 3
   },
   "file_extension": ".py",
   "mimetype": "text/x-python",
   "name": "python",
   "nbconvert_exporter": "python",
   "pygments_lexer": "ipython3",
   "version": "3.6.4"
  }
 },
 "nbformat": 4,
 "nbformat_minor": 2
}
