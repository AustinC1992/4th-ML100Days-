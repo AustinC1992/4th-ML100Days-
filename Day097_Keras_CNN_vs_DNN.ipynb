{
 "cells": [
  {
   "cell_type": "code",
   "execution_count": 1,
   "metadata": {},
   "outputs": [
    {
     "name": "stderr",
     "output_type": "stream",
     "text": [
      "Using TensorFlow backend.\n"
     ]
    }
   ],
   "source": [
    "import keras\n",
    "from keras.datasets import cifar10\n",
    "from keras.preprocessing.image import ImageDataGenerator\n",
    "from keras.models import Sequential\n",
    "from keras.layers import Dense, Dropout, Activation, Flatten\n",
    "from keras.layers import Conv2D, MaxPooling2D\n",
    "from keras.optimizers import RMSprop, Adam\n",
    "import os"
   ]
  },
  {
   "cell_type": "code",
   "execution_count": 2,
   "metadata": {},
   "outputs": [
    {
     "name": "stdout",
     "output_type": "stream",
     "text": [
      "x_train shape: (50000, 32, 32, 3)\n",
      "50000 train samples\n",
      "10000 test samples\n"
     ]
    }
   ],
   "source": [
    "batch_size = 128 # batch 的大小，如果出現 OOM error，請降低這個值\n",
    "num_classes = 10 # 類別的數量，Cifar 10 共有 10 個類別\n",
    "epochs = 10 # 訓練的 epochs 數量\n",
    "\n",
    "# 讀取資料並檢視\n",
    "(x_train, y_train), (x_test, y_test) = cifar10.load_data()\n",
    "print('x_train shape:', x_train.shape)\n",
    "print(x_train.shape[0], 'train samples')\n",
    "print(x_test.shape[0], 'test samples')\n",
    "\n",
    "# 對 label 進行 one-hot encoding (y_trian 原本是純數字)\n",
    "y_train = keras.utils.to_categorical(y_train, num_classes)\n",
    "y_test = keras.utils.to_categorical(y_test, num_classes)"
   ]
  },
  {
   "cell_type": "markdown",
   "metadata": {},
   "source": [
    "## 首先我們使用一般的 DNN (MLP) 來訓練\n",
    "由於 DNN 只能輸入一維的資料，我們要先將影像進行攤平，若 (50000, 32, 32, 3) 的影像，攤平後會變成 (50000, 32*32*3) = (50000, 3072)"
   ]
  },
  {
   "cell_type": "code",
   "execution_count": 3,
   "metadata": {},
   "outputs": [
    {
     "name": "stdout",
     "output_type": "stream",
     "text": [
      "50000 train samples\n",
      "10000 test samples\n"
     ]
    }
   ],
   "source": [
    "# 將資料攤平成一維資料\n",
    "x_train = x_train.reshape(50000, 3072) \n",
    "x_test = x_test.reshape(10000, 3072)\n",
    "\n",
    "# 將資料變為 float32 並標準化\n",
    "x_train = x_train.astype('float32')\n",
    "x_test = x_test.astype('float32')\n",
    "x_train /= 255\n",
    "x_test /= 255\n",
    "print(x_train.shape[0], 'train samples')\n",
    "print(x_test.shape[0], 'test samples')"
   ]
  },
  {
   "cell_type": "code",
   "execution_count": 4,
   "metadata": {},
   "outputs": [
    {
     "name": "stdout",
     "output_type": "stream",
     "text": [
      "Model: \"sequential_1\"\n",
      "_________________________________________________________________\n",
      "Layer (type)                 Output Shape              Param #   \n",
      "=================================================================\n",
      "dense_1 (Dense)              (None, 512)               1573376   \n",
      "_________________________________________________________________\n",
      "dropout_1 (Dropout)          (None, 512)               0         \n",
      "_________________________________________________________________\n",
      "dense_2 (Dense)              (None, 512)               262656    \n",
      "_________________________________________________________________\n",
      "dropout_2 (Dropout)          (None, 512)               0         \n",
      "_________________________________________________________________\n",
      "dense_3 (Dense)              (None, 10)                5130      \n",
      "=================================================================\n",
      "Total params: 1,841,162\n",
      "Trainable params: 1,841,162\n",
      "Non-trainable params: 0\n",
      "_________________________________________________________________\n",
      "Train on 50000 samples, validate on 10000 samples\n",
      "Epoch 1/10\n",
      "50000/50000 [==============================] - 16s 324us/step - loss: 2.1381 - accuracy: 0.2511 - val_loss: 1.8227 - val_accuracy: 0.3403\n",
      "Epoch 2/10\n",
      "50000/50000 [==============================] - 15s 309us/step - loss: 1.8535 - accuracy: 0.3294 - val_loss: 1.7285 - val_accuracy: 0.3966\n",
      "Epoch 3/10\n",
      "50000/50000 [==============================] - 16s 322us/step - loss: 1.7721 - accuracy: 0.3609 - val_loss: 1.7137 - val_accuracy: 0.3882\n",
      "Epoch 4/10\n",
      "50000/50000 [==============================] - 15s 309us/step - loss: 1.7268 - accuracy: 0.3825 - val_loss: 1.6718 - val_accuracy: 0.4047\n",
      "Epoch 5/10\n",
      "50000/50000 [==============================] - 16s 311us/step - loss: 1.6905 - accuracy: 0.3917 - val_loss: 1.6313 - val_accuracy: 0.4096\n",
      "Epoch 6/10\n",
      "50000/50000 [==============================] - 16s 314us/step - loss: 1.6616 - accuracy: 0.4064 - val_loss: 1.5964 - val_accuracy: 0.4376\n",
      "Epoch 7/10\n",
      "50000/50000 [==============================] - 16s 316us/step - loss: 1.6404 - accuracy: 0.4105 - val_loss: 1.5854 - val_accuracy: 0.4468\n",
      "Epoch 8/10\n",
      "50000/50000 [==============================] - 15s 310us/step - loss: 1.6218 - accuracy: 0.4205 - val_loss: 1.5418 - val_accuracy: 0.4463\n",
      "Epoch 9/10\n",
      "50000/50000 [==============================] - 17s 333us/step - loss: 1.6022 - accuracy: 0.4262 - val_loss: 1.5578 - val_accuracy: 0.4581\n",
      "Epoch 10/10\n",
      "50000/50000 [==============================] - 18s 359us/step - loss: 1.5910 - accuracy: 0.4317 - val_loss: 1.5637 - val_accuracy: 0.4377\n",
      "Test loss: 1.5636600419998168\n",
      "Test accuracy: 0.4377000033855438\n"
     ]
    }
   ],
   "source": [
    "model = Sequential()\n",
    "model.add(Dense(512, activation='relu', input_shape=(3072,)))\n",
    "model.add(Dropout(0.2))\n",
    "model.add(Dense(512, activation='relu'))\n",
    "model.add(Dropout(0.2))\n",
    "model.add(Dense(num_classes, activation='softmax'))\n",
    "\n",
    "model.summary()\n",
    "\n",
    "model.compile(loss='categorical_crossentropy',\n",
    "              optimizer=RMSprop(),\n",
    "              metrics=['accuracy'])\n",
    "\n",
    "history = model.fit(x_train, y_train,\n",
    "                    batch_size=batch_size,\n",
    "                    epochs=epochs,\n",
    "                    verbose=1,\n",
    "                    validation_data=(x_test, y_test))\n",
    "score = model.evaluate(x_test, y_test, verbose=0)\n",
    "print('Test loss:', score[0])\n",
    "print('Test accuracy:', score[1])"
   ]
  },
  {
   "cell_type": "markdown",
   "metadata": {},
   "source": [
    "## 接下來我們使用 CNN 來訓練神經網路\n",
    "CNN 的原理非常適合處理影像類的資料，就讓我們來看看，同樣的訓練條件，CNN 是否顯著優於 DNN 呢?"
   ]
  },
  {
   "cell_type": "code",
   "execution_count": 5,
   "metadata": {},
   "outputs": [
    {
     "name": "stdout",
     "output_type": "stream",
     "text": [
      "x_train shape: (50000, 32, 32, 3)\n",
      "50000 train samples\n",
      "10000 test samples\n"
     ]
    }
   ],
   "source": [
    "(x_train, y_train), (x_test, y_test) = cifar10.load_data()\n",
    "print('x_train shape:', x_train.shape)\n",
    "print(x_train.shape[0], 'train samples')\n",
    "print(x_test.shape[0], 'test samples')\n",
    "x_train = x_train.astype('float32')\n",
    "x_test = x_test.astype('float32')\n",
    "x_train /= 255\n",
    "x_test /= 255\n",
    "\n",
    "# Convert class vectors to binary class matrices.\n",
    "y_train = keras.utils.to_categorical(y_train, num_classes)\n",
    "y_test = keras.utils.to_categorical(y_test, num_classes)"
   ]
  },
  {
   "cell_type": "code",
   "execution_count": 6,
   "metadata": {},
   "outputs": [
    {
     "name": "stdout",
     "output_type": "stream",
     "text": [
      "Model: \"sequential_2\"\n",
      "_________________________________________________________________\n",
      "Layer (type)                 Output Shape              Param #   \n",
      "=================================================================\n",
      "conv2d_1 (Conv2D)            (None, 32, 32, 32)        896       \n",
      "_________________________________________________________________\n",
      "activation_1 (Activation)    (None, 32, 32, 32)        0         \n",
      "_________________________________________________________________\n",
      "conv2d_2 (Conv2D)            (None, 30, 30, 32)        9248      \n",
      "_________________________________________________________________\n",
      "activation_2 (Activation)    (None, 30, 30, 32)        0         \n",
      "_________________________________________________________________\n",
      "max_pooling2d_1 (MaxPooling2 (None, 15, 15, 32)        0         \n",
      "_________________________________________________________________\n",
      "dropout_3 (Dropout)          (None, 15, 15, 32)        0         \n",
      "_________________________________________________________________\n",
      "conv2d_3 (Conv2D)            (None, 15, 15, 64)        18496     \n",
      "_________________________________________________________________\n",
      "activation_3 (Activation)    (None, 15, 15, 64)        0         \n",
      "_________________________________________________________________\n",
      "conv2d_4 (Conv2D)            (None, 13, 13, 64)        36928     \n",
      "_________________________________________________________________\n",
      "activation_4 (Activation)    (None, 13, 13, 64)        0         \n",
      "_________________________________________________________________\n",
      "max_pooling2d_2 (MaxPooling2 (None, 6, 6, 64)          0         \n",
      "_________________________________________________________________\n",
      "dropout_4 (Dropout)          (None, 6, 6, 64)          0         \n",
      "_________________________________________________________________\n",
      "flatten_1 (Flatten)          (None, 2304)              0         \n",
      "_________________________________________________________________\n",
      "dense_4 (Dense)              (None, 512)               1180160   \n",
      "_________________________________________________________________\n",
      "activation_5 (Activation)    (None, 512)               0         \n",
      "_________________________________________________________________\n",
      "dropout_5 (Dropout)          (None, 512)               0         \n",
      "_________________________________________________________________\n",
      "dense_5 (Dense)              (None, 10)                5130      \n",
      "_________________________________________________________________\n",
      "activation_6 (Activation)    (None, 10)                0         \n",
      "=================================================================\n",
      "Total params: 1,250,858\n",
      "Trainable params: 1,250,858\n",
      "Non-trainable params: 0\n",
      "_________________________________________________________________\n",
      "Train on 50000 samples, validate on 10000 samples\n",
      "Epoch 1/10\n",
      "50000/50000 [==============================] - 202s 4ms/step - loss: 1.7481 - accuracy: 0.3703 - val_loss: 1.3436 - val_accuracy: 0.5159\n",
      "Epoch 2/10\n",
      "50000/50000 [==============================] - 190s 4ms/step - loss: 1.2990 - accuracy: 0.5378 - val_loss: 1.1110 - val_accuracy: 0.6070\n",
      "Epoch 3/10\n",
      "50000/50000 [==============================] - 195s 4ms/step - loss: 1.0943 - accuracy: 0.6156 - val_loss: 1.0055 - val_accuracy: 0.6459\n",
      "Epoch 4/10\n",
      "50000/50000 [==============================] - 198s 4ms/step - loss: 0.9650 - accuracy: 0.6620 - val_loss: 0.8569 - val_accuracy: 0.7032\n",
      "Epoch 5/10\n",
      "50000/50000 [==============================] - 201s 4ms/step - loss: 0.8702 - accuracy: 0.6972 - val_loss: 0.7934 - val_accuracy: 0.7246\n",
      "Epoch 6/10\n",
      "50000/50000 [==============================] - 203s 4ms/step - loss: 0.8134 - accuracy: 0.7150 - val_loss: 0.7627 - val_accuracy: 0.7350\n",
      "Epoch 7/10\n",
      "50000/50000 [==============================] - 207s 4ms/step - loss: 0.7597 - accuracy: 0.7373 - val_loss: 0.7662 - val_accuracy: 0.7356\n",
      "Epoch 8/10\n",
      "50000/50000 [==============================] - 220s 4ms/step - loss: 0.7154 - accuracy: 0.7512 - val_loss: 0.7287 - val_accuracy: 0.7503\n",
      "Epoch 9/10\n",
      "50000/50000 [==============================] - 209s 4ms/step - loss: 0.6867 - accuracy: 0.7637 - val_loss: 0.7894 - val_accuracy: 0.7371\n",
      "Epoch 10/10\n",
      "50000/50000 [==============================] - 209s 4ms/step - loss: 0.6603 - accuracy: 0.7726 - val_loss: 0.6680 - val_accuracy: 0.7721\n",
      "Test loss: 0.6679802277565002\n",
      "Test accuracy: 0.7720999717712402\n"
     ]
    }
   ],
   "source": [
    "model = Sequential()\n",
    "model.add(Conv2D(32, (3, 3), padding='same',\n",
    "                 input_shape=x_train.shape[1:]))\n",
    "model.add(Activation('relu'))\n",
    "model.add(Conv2D(32, (3, 3)))\n",
    "model.add(Activation('relu'))\n",
    "model.add(MaxPooling2D(pool_size=(2, 2)))\n",
    "model.add(Dropout(0.25))\n",
    "\n",
    "model.add(Conv2D(64, (3, 3), padding='same'))\n",
    "model.add(Activation('relu'))\n",
    "model.add(Conv2D(64, (3, 3)))\n",
    "model.add(Activation('relu'))\n",
    "model.add(MaxPooling2D(pool_size=(2, 2)))\n",
    "model.add(Dropout(0.25))\n",
    "\n",
    "model.add(Flatten())\n",
    "model.add(Dense(512))\n",
    "model.add(Activation('relu'))\n",
    "model.add(Dropout(0.5))\n",
    "model.add(Dense(num_classes))\n",
    "model.add(Activation('softmax'))\n",
    "model.summary()\n",
    "\n",
    "model.compile(loss='categorical_crossentropy',\n",
    "              optimizer=RMSprop(),\n",
    "              metrics=['accuracy'])\n",
    "\n",
    "history = model.fit(x_train, y_train,\n",
    "                    batch_size=batch_size,\n",
    "                    epochs=epochs,\n",
    "                    verbose=1,\n",
    "                    validation_data=(x_test, y_test))\n",
    "score = model.evaluate(x_test, y_test, verbose=0)\n",
    "print('Test loss:', score[0])\n",
    "print('Test accuracy:', score[1])"
   ]
  },
  {
   "cell_type": "markdown",
   "metadata": {},
   "source": [
    "## 同樣運算 10 個 epochs，但 CNN 在 test data 的準確率顯著優於 DNN!"
   ]
  },
  {
   "cell_type": "markdown",
   "metadata": {},
   "source": [
    "## 作業\n",
    "1. 請試著調整各個超參數，並說明那些超參數對於結果有明顯的影響?\n",
    "2. CNN 與 DNN 哪個模型的參數數量比較多? 造成參數的數量不同的原因在哪?"
   ]
  },
  {
   "cell_type": "code",
   "execution_count": null,
   "metadata": {},
   "outputs": [],
   "source": []
  },
  {
   "cell_type": "code",
   "execution_count": 10,
   "metadata": {},
   "outputs": [
    {
     "name": "stdout",
     "output_type": "stream",
     "text": [
      "1.Batch size: 128 -> 64 acc: 0.7462 -> 0.7476、drop out: 0.25 -> 0.1 acc: 0.7462 -> 0.7621、drop out 參數的調整對於acc結果有明顯的影響\n",
      "2.CNN: Total params: 1,250,858、DNN: Total params: 1,841,162、CNN在進入Dense之前，經過了Conv2D & Maxpooling2D降維，因此最終參數較少。\n"
     ]
    }
   ],
   "source": [
    "print(\"1.Batch size: 128 -> 64 acc: 0.7462 -> 0.7476、drop out: 0.25 -> 0.1 acc: 0.7462 -> 0.7621、drop out 參數的調整對於acc結果有明顯的影響\")\n",
    "\n",
    "\n",
    "print(\"2.CNN: Total params: 1,250,858、DNN: Total params: 1,841,162、CNN在進入Dense之前，經過了Conv2D & Maxpooling2D降維，因此最終參數較少。\")"
   ]
  },
  {
   "cell_type": "code",
   "execution_count": null,
   "metadata": {},
   "outputs": [],
   "source": []
  }
 ],
 "metadata": {
  "kernelspec": {
   "display_name": "Python 3",
   "language": "python",
   "name": "python3"
  },
  "language_info": {
   "codemirror_mode": {
    "name": "ipython",
    "version": 3
   },
   "file_extension": ".py",
   "mimetype": "text/x-python",
   "name": "python",
   "nbconvert_exporter": "python",
   "pygments_lexer": "ipython3",
   "version": "3.6.4"
  }
 },
 "nbformat": 4,
 "nbformat_minor": 2
}
