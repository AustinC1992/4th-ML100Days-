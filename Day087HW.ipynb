{
 "cells": [
  {
   "cell_type": "markdown",
   "metadata": {},
   "source": [
    "## Work\n",
    "1. 請改變 reduce_lr 的 patience 和 factor 並比較不同設定下，對訓練/驗證集的影響\n",
    "2. 請將 optimizer 換成 Adam、RMSprop 搭配 reduce_lr 並比較訓練結果"
   ]
  },
  {
   "cell_type": "code",
   "execution_count": 1,
   "metadata": {},
   "outputs": [
    {
     "name": "stderr",
     "output_type": "stream",
     "text": [
      "Using TensorFlow backend.\n"
     ]
    }
   ],
   "source": [
    "import os\n",
    "import keras\n",
    "\n",
    "# Disable GPU\n",
    "os.environ[\"CUDA_VISIBLE_DEVICES\"] = \"\""
   ]
  },
  {
   "cell_type": "code",
   "execution_count": 2,
   "metadata": {},
   "outputs": [],
   "source": [
    "train, test = keras.datasets.cifar10.load_data()"
   ]
  },
  {
   "cell_type": "code",
   "execution_count": 3,
   "metadata": {},
   "outputs": [],
   "source": [
    "## 資料前處理\n",
    "def preproc_x(x, flatten=True):\n",
    "    x = x / 255.\n",
    "    if flatten:\n",
    "        x = x.reshape((len(x), -1))\n",
    "    return x\n",
    "\n",
    "def preproc_y(y, num_classes=10):\n",
    "    if y.shape[-1] == 1:\n",
    "        y = keras.utils.to_categorical(y, num_classes)\n",
    "    return y    "
   ]
  },
  {
   "cell_type": "code",
   "execution_count": 4,
   "metadata": {},
   "outputs": [],
   "source": [
    "x_train, y_train = train\n",
    "x_test, y_test = test\n",
    "\n",
    "# Preproc the inputs\n",
    "x_train = preproc_x(x_train)\n",
    "x_test = preproc_x(x_test)\n",
    "\n",
    "# Preprc the outputs\n",
    "y_train = preproc_y(y_train)\n",
    "y_test = preproc_y(y_test)"
   ]
  },
  {
   "cell_type": "code",
   "execution_count": 8,
   "metadata": {},
   "outputs": [],
   "source": [
    "\n",
    "from keras.layers import BatchNormalization\n",
    "\n",
    "\"\"\"\n",
    "建立神經網路，並加入 BN layer\n",
    "\"\"\"\n",
    "def build_mlp(input_shape, output_units=10, num_neurons=[512, 256, 128]):\n",
    "    input_layer = keras.layers.Input(input_shape)\n",
    "    \n",
    "    for i, n_units in enumerate(num_neurons):\n",
    "        if i == 0:\n",
    "            x = keras.layers.Dense(units=n_units, \n",
    "                                   activation=\"relu\", \n",
    "                                   name=\"hidden_layer\"+str(i+1))(input_layer)\n",
    "            x = BatchNormalization()(x)\n",
    "        else:\n",
    "            x = keras.layers.Dense(units=n_units, \n",
    "                                   activation=\"relu\", \n",
    "                                   name=\"hidden_layer\"+str(i+1))(x)\n",
    "            x = BatchNormalization()(x)\n",
    "    \n",
    "    out = keras.layers.Dense(units=output_units, activation=\"softmax\", name=\"output\")(x)\n",
    "    \n",
    "    model = keras.models.Model(inputs=[input_layer], outputs=[out])\n",
    "    return model"
   ]
  },
  {
   "cell_type": "code",
   "execution_count": 9,
   "metadata": {},
   "outputs": [],
   "source": [
    "## 超參數設定\n",
    "LEARNING_RATE = 1e-3\n",
    "EPOCHS = 50\n",
    "BATCH_SIZE = 1024\n",
    "MOMENTUM = 0.95"
   ]
  },
  {
   "cell_type": "code",
   "execution_count": 10,
   "metadata": {},
   "outputs": [],
   "source": [
    "\n",
    "\"\"\"\n",
    "# 載入 Callbacks, 並設定監控目標為 validation loss\n",
    "\"\"\"\n",
    "from keras.callbacks import ReduceLROnPlateau\n",
    "\n",
    "reduce_lr = ReduceLROnPlateau(factor=0.5, \n",
    "                              min_lr=1e-12, \n",
    "                              monitor='val_loss', \n",
    "                              patience=5, \n",
    "                              verbose=1)"
   ]
  },
  {
   "cell_type": "code",
   "execution_count": 11,
   "metadata": {
    "scrolled": true
   },
   "outputs": [
    {
     "name": "stdout",
     "output_type": "stream",
     "text": [
      "Model: \"model_1\"\n",
      "_________________________________________________________________\n",
      "Layer (type)                 Output Shape              Param #   \n",
      "=================================================================\n",
      "input_1 (InputLayer)         (None, 3072)              0         \n",
      "_________________________________________________________________\n",
      "hidden_layer1 (Dense)        (None, 512)               1573376   \n",
      "_________________________________________________________________\n",
      "batch_normalization_1 (Batch (None, 512)               2048      \n",
      "_________________________________________________________________\n",
      "hidden_layer2 (Dense)        (None, 256)               131328    \n",
      "_________________________________________________________________\n",
      "batch_normalization_2 (Batch (None, 256)               1024      \n",
      "_________________________________________________________________\n",
      "hidden_layer3 (Dense)        (None, 128)               32896     \n",
      "_________________________________________________________________\n",
      "batch_normalization_3 (Batch (None, 128)               512       \n",
      "_________________________________________________________________\n",
      "output (Dense)               (None, 10)                1290      \n",
      "=================================================================\n",
      "Total params: 1,742,474\n",
      "Trainable params: 1,740,682\n",
      "Non-trainable params: 1,792\n",
      "_________________________________________________________________\n",
      "Train on 50000 samples, validate on 10000 samples\n",
      "Epoch 1/50\n",
      "50000/50000 [==============================] - 12s 242us/step - loss: 2.2027 - accuracy: 0.2650 - val_loss: 2.1376 - val_accuracy: 0.1898\n",
      "Epoch 2/50\n",
      "50000/50000 [==============================] - 10s 197us/step - loss: 1.7447 - accuracy: 0.3915 - val_loss: 1.9516 - val_accuracy: 0.3059\n",
      "Epoch 3/50\n",
      "50000/50000 [==============================] - 10s 204us/step - loss: 1.6174 - accuracy: 0.4335 - val_loss: 1.8188 - val_accuracy: 0.3708\n",
      "Epoch 4/50\n",
      "50000/50000 [==============================] - 10s 200us/step - loss: 1.5453 - accuracy: 0.4600 - val_loss: 1.7186 - val_accuracy: 0.4070\n",
      "Epoch 5/50\n",
      "50000/50000 [==============================] - 10s 198us/step - loss: 1.4915 - accuracy: 0.4789 - val_loss: 1.6679 - val_accuracy: 0.4143\n",
      "Epoch 6/50\n",
      "50000/50000 [==============================] - 10s 209us/step - loss: 1.4453 - accuracy: 0.4974 - val_loss: 1.5901 - val_accuracy: 0.4430\n",
      "Epoch 7/50\n",
      "50000/50000 [==============================] - 10s 203us/step - loss: 1.4050 - accuracy: 0.5094 - val_loss: 1.5657 - val_accuracy: 0.4435\n",
      "Epoch 8/50\n",
      "50000/50000 [==============================] - 10s 200us/step - loss: 1.3718 - accuracy: 0.5210 - val_loss: 1.5265 - val_accuracy: 0.4615\n",
      "Epoch 9/50\n",
      "50000/50000 [==============================] - 10s 207us/step - loss: 1.3398 - accuracy: 0.5348 - val_loss: 1.5127 - val_accuracy: 0.4622\n",
      "Epoch 10/50\n",
      "50000/50000 [==============================] - 10s 205us/step - loss: 1.3089 - accuracy: 0.5447 - val_loss: 1.4975 - val_accuracy: 0.4691\n",
      "Epoch 11/50\n",
      "50000/50000 [==============================] - 10s 196us/step - loss: 1.2822 - accuracy: 0.5543 - val_loss: 1.4843 - val_accuracy: 0.4714\n",
      "Epoch 12/50\n",
      "50000/50000 [==============================] - 10s 200us/step - loss: 1.2551 - accuracy: 0.5654 - val_loss: 1.4675 - val_accuracy: 0.4791\n",
      "Epoch 13/50\n",
      "50000/50000 [==============================] - 10s 191us/step - loss: 1.2280 - accuracy: 0.5745 - val_loss: 1.4708 - val_accuracy: 0.4791\n",
      "Epoch 14/50\n",
      "50000/50000 [==============================] - 10s 196us/step - loss: 1.2048 - accuracy: 0.5832 - val_loss: 1.4848 - val_accuracy: 0.4727\n",
      "Epoch 15/50\n",
      "50000/50000 [==============================] - 10s 200us/step - loss: 1.1811 - accuracy: 0.5931 - val_loss: 1.4663 - val_accuracy: 0.4813\n",
      "Epoch 16/50\n",
      "50000/50000 [==============================] - 10s 195us/step - loss: 1.1574 - accuracy: 0.6019 - val_loss: 1.4653 - val_accuracy: 0.4847\n",
      "Epoch 17/50\n",
      "50000/50000 [==============================] - 10s 197us/step - loss: 1.1340 - accuracy: 0.6113 - val_loss: 1.4526 - val_accuracy: 0.4889\n",
      "Epoch 18/50\n",
      "50000/50000 [==============================] - 10s 197us/step - loss: 1.1096 - accuracy: 0.6206 - val_loss: 1.4532 - val_accuracy: 0.4854\n",
      "Epoch 19/50\n",
      "50000/50000 [==============================] - 10s 191us/step - loss: 1.0892 - accuracy: 0.6263 - val_loss: 1.4510 - val_accuracy: 0.4885\n",
      "Epoch 20/50\n",
      "50000/50000 [==============================] - 10s 197us/step - loss: 1.0669 - accuracy: 0.6347 - val_loss: 1.4458 - val_accuracy: 0.4904\n",
      "Epoch 21/50\n",
      "50000/50000 [==============================] - 10s 196us/step - loss: 1.0455 - accuracy: 0.6432 - val_loss: 1.4492 - val_accuracy: 0.4918\n",
      "Epoch 22/50\n",
      "50000/50000 [==============================] - 10s 196us/step - loss: 1.0252 - accuracy: 0.6523 - val_loss: 1.4499 - val_accuracy: 0.4929\n",
      "Epoch 23/50\n",
      "50000/50000 [==============================] - 10s 199us/step - loss: 1.0021 - accuracy: 0.6608 - val_loss: 1.4576 - val_accuracy: 0.4873\n",
      "Epoch 24/50\n",
      "50000/50000 [==============================] - 10s 194us/step - loss: 0.9818 - accuracy: 0.6697 - val_loss: 1.4524 - val_accuracy: 0.4956\n",
      "Epoch 25/50\n",
      "50000/50000 [==============================] - 10s 196us/step - loss: 0.9618 - accuracy: 0.6742 - val_loss: 1.4740 - val_accuracy: 0.4914\n",
      "\n",
      "Epoch 00025: ReduceLROnPlateau reducing learning rate to 0.0005000000237487257.\n",
      "Epoch 26/50\n",
      "50000/50000 [==============================] - 10s 199us/step - loss: 0.9345 - accuracy: 0.6878 - val_loss: 1.4539 - val_accuracy: 0.4973\n",
      "Epoch 27/50\n",
      "50000/50000 [==============================] - 10s 192us/step - loss: 0.9157 - accuracy: 0.6934 - val_loss: 1.4570 - val_accuracy: 0.4943\n",
      "Epoch 28/50\n",
      "50000/50000 [==============================] - 10s 200us/step - loss: 0.9034 - accuracy: 0.6981 - val_loss: 1.4590 - val_accuracy: 0.4932\n",
      "Epoch 29/50\n",
      "50000/50000 [==============================] - 10s 196us/step - loss: 0.8930 - accuracy: 0.7045 - val_loss: 1.4640 - val_accuracy: 0.4955\n",
      "Epoch 30/50\n",
      "50000/50000 [==============================] - 10s 193us/step - loss: 0.8819 - accuracy: 0.7067 - val_loss: 1.4658 - val_accuracy: 0.4959\n",
      "\n",
      "Epoch 00030: ReduceLROnPlateau reducing learning rate to 0.0002500000118743628.\n",
      "Epoch 31/50\n",
      "50000/50000 [==============================] - 10s 203us/step - loss: 0.8677 - accuracy: 0.7144 - val_loss: 1.4573 - val_accuracy: 0.4999\n",
      "Epoch 32/50\n",
      "50000/50000 [==============================] - 10s 208us/step - loss: 0.8575 - accuracy: 0.7191 - val_loss: 1.4613 - val_accuracy: 0.4990\n",
      "Epoch 33/50\n",
      "50000/50000 [==============================] - 9s 187us/step - loss: 0.8505 - accuracy: 0.7212 - val_loss: 1.4639 - val_accuracy: 0.4953\n",
      "Epoch 34/50\n",
      "50000/50000 [==============================] - 9s 190us/step - loss: 0.8448 - accuracy: 0.7239 - val_loss: 1.4593 - val_accuracy: 0.4984\n",
      "Epoch 35/50\n",
      "50000/50000 [==============================] - 9s 186us/step - loss: 0.8393 - accuracy: 0.7251 - val_loss: 1.4710 - val_accuracy: 0.4958\n",
      "\n",
      "Epoch 00035: ReduceLROnPlateau reducing learning rate to 0.0001250000059371814.\n",
      "Epoch 36/50\n",
      "50000/50000 [==============================] - 9s 189us/step - loss: 0.8309 - accuracy: 0.7301 - val_loss: 1.4621 - val_accuracy: 0.4948\n",
      "Epoch 37/50\n",
      "50000/50000 [==============================] - 9s 189us/step - loss: 0.8258 - accuracy: 0.7330 - val_loss: 1.4641 - val_accuracy: 0.4973\n",
      "Epoch 38/50\n",
      "50000/50000 [==============================] - 9s 184us/step - loss: 0.8227 - accuracy: 0.7338 - val_loss: 1.4655 - val_accuracy: 0.4978\n",
      "Epoch 39/50\n",
      "50000/50000 [==============================] - 10s 195us/step - loss: 0.8199 - accuracy: 0.7346 - val_loss: 1.4684 - val_accuracy: 0.5004\n",
      "Epoch 40/50\n",
      "50000/50000 [==============================] - 9s 188us/step - loss: 0.8173 - accuracy: 0.7338 - val_loss: 1.4693 - val_accuracy: 0.4997\n",
      "\n",
      "Epoch 00040: ReduceLROnPlateau reducing learning rate to 6.25000029685907e-05.\n",
      "Epoch 41/50\n",
      "50000/50000 [==============================] - 10s 193us/step - loss: 0.8134 - accuracy: 0.7360 - val_loss: 1.4680 - val_accuracy: 0.4983\n",
      "Epoch 42/50\n",
      "50000/50000 [==============================] - 9s 187us/step - loss: 0.8102 - accuracy: 0.7384 - val_loss: 1.4673 - val_accuracy: 0.4982\n",
      "Epoch 43/50\n",
      "50000/50000 [==============================] - 10s 193us/step - loss: 0.8096 - accuracy: 0.7377 - val_loss: 1.4686 - val_accuracy: 0.4974\n"
     ]
    },
    {
     "name": "stdout",
     "output_type": "stream",
     "text": [
      "Epoch 44/50\n",
      "50000/50000 [==============================] - 9s 188us/step - loss: 0.8068 - accuracy: 0.7388 - val_loss: 1.4696 - val_accuracy: 0.4978\n",
      "Epoch 45/50\n",
      "50000/50000 [==============================] - 10s 191us/step - loss: 0.8059 - accuracy: 0.7398 - val_loss: 1.4704 - val_accuracy: 0.4976\n",
      "\n",
      "Epoch 00045: ReduceLROnPlateau reducing learning rate to 3.125000148429535e-05.\n",
      "Epoch 46/50\n",
      "50000/50000 [==============================] - 9s 184us/step - loss: 0.8034 - accuracy: 0.7401 - val_loss: 1.4703 - val_accuracy: 0.4983\n",
      "Epoch 47/50\n",
      "50000/50000 [==============================] - 9s 189us/step - loss: 0.8022 - accuracy: 0.7418 - val_loss: 1.4710 - val_accuracy: 0.4976\n",
      "Epoch 48/50\n",
      "50000/50000 [==============================] - 9s 185us/step - loss: 0.8025 - accuracy: 0.7413 - val_loss: 1.4711 - val_accuracy: 0.4995\n",
      "Epoch 49/50\n",
      "50000/50000 [==============================] - 10s 190us/step - loss: 0.7997 - accuracy: 0.7419 - val_loss: 1.4717 - val_accuracy: 0.4991\n",
      "Epoch 50/50\n",
      "50000/50000 [==============================] - 9s 186us/step - loss: 0.8007 - accuracy: 0.7428 - val_loss: 1.4713 - val_accuracy: 0.4969\n",
      "\n",
      "Epoch 00050: ReduceLROnPlateau reducing learning rate to 1.5625000742147677e-05.\n"
     ]
    }
   ],
   "source": [
    "\n",
    "model = build_mlp(input_shape=x_train.shape[1:])\n",
    "model.summary()\n",
    "optimizer = keras.optimizers.SGD(lr=LEARNING_RATE, nesterov=True, momentum=MOMENTUM)\n",
    "model.compile(loss=\"categorical_crossentropy\", metrics=[\"accuracy\"], optimizer=optimizer)\n",
    "\n",
    "model.fit(x_train, y_train, \n",
    "          epochs=EPOCHS, \n",
    "          batch_size=BATCH_SIZE, \n",
    "          validation_data=(x_test, y_test), \n",
    "          shuffle=True,\n",
    "          callbacks=[reduce_lr]\n",
    "         )\n",
    "\n",
    "# Collect results\n",
    "train_loss = model.history.history[\"loss\"]\n",
    "valid_loss = model.history.history[\"val_loss\"]\n",
    "train_acc = model.history.history[\"accuracy\"]\n",
    "valid_acc = model.history.history[\"val_accuracy\"]"
   ]
  },
  {
   "cell_type": "code",
   "execution_count": 12,
   "metadata": {},
   "outputs": [
    {
     "data": {
      "image/png": "[encoded data removed]",
      "text/plain": [
       "<Figure size 432x288 with 1 Axes>"
      ]
     },
     "metadata": {},
     "output_type": "display_data"
    },
    {
     "data": {
      "image/png": "[encoded data removed]",
      "text/plain": [
       "<Figure size 432x288 with 1 Axes>"
      ]
     },
     "metadata": {},
     "output_type": "display_data"
    }
   ],
   "source": [
    "import matplotlib.pyplot as plt\n",
    "%matplotlib inline\n",
    "\n",
    "plt.plot(range(len(train_loss)), train_loss, label=\"train loss\")\n",
    "plt.plot(range(len(valid_loss)), valid_loss, label=\"valid loss\")\n",
    "plt.legend()\n",
    "plt.title(\"Loss\")\n",
    "plt.show()\n",
    "\n",
    "plt.plot(range(len(train_acc)), train_acc, label=\"train accuracy\")\n",
    "plt.plot(range(len(valid_acc)), valid_acc, label=\"valid accuracy\")\n",
    "plt.legend()\n",
    "plt.title(\"Accuracy\")\n",
    "plt.show()"
   ]
  },
  {
   "cell_type": "code",
   "execution_count": null,
   "metadata": {},
   "outputs": [],
   "source": []
  }
 ],
 "metadata": {
  "kernelspec": {
   "display_name": "Python 3",
   "language": "python",
   "name": "python3"
  },
  "language_info": {
   "codemirror_mode": {
    "name": "ipython",
    "version": 3
   },
   "file_extension": ".py",
   "mimetype": "text/x-python",
   "name": "python",
   "nbconvert_exporter": "python",
   "pygments_lexer": "ipython3",
   "version": "3.6.4"
  }
 },
 "nbformat": 4,
 "nbformat_minor": 2
}
